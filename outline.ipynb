{
 "cells": [
  {
   "cell_type": "markdown",
   "metadata": {},
   "source": [
    "## Seminario de Introduccion a Keras\n",
    "\n",
    "----------------------\n",
    "- **Parte I: Introducción**\n",
    "\n",
    "    - Variables básicas    \n",
    "    - Operaciones básicas\n",
    "\n",
    "\n",
    "- **Parte II: Machine Learning**\n",
    "\n",
    "    - Regresion Lineal\n",
    "    - Regresion Logistica\n",
    "    - Redes Neuronales\n",
    "\n",
    "\n",
    "- **Parte III: Deep Learning**\n",
    "\n",
    "    - Redes Neuronales Convolucionales\n",
    "    - Arquitecturas de CNNs\n",
    "    - Transfer Learning\n",
    "    - CNN con data customizada\n",
    "    - RNN basico (LSTM)"
   ]
  },
  {
   "cell_type": "code",
   "execution_count": null,
   "metadata": {},
   "outputs": [],
   "source": []
  }
 ],
 "metadata": {
  "kernelspec": {
   "display_name": "Python 3",
   "language": "python",
   "name": "python3"
  },
  "language_info": {
   "codemirror_mode": {
    "name": "ipython",
    "version": 3
   },
   "file_extension": ".py",
   "mimetype": "text/x-python",
   "name": "python",
   "nbconvert_exporter": "python",
   "pygments_lexer": "ipython3",
   "version": "3.6.1"
  }
 },
 "nbformat": 4,
 "nbformat_minor": 2
}
