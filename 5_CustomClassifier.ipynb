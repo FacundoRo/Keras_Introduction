{
 "cells": [
  {
   "cell_type": "code",
   "execution_count": 1,
   "metadata": {},
   "outputs": [
    {
     "name": "stderr",
     "output_type": "stream",
     "text": [
      "Using TensorFlow backend.\n"
     ]
    }
   ],
   "source": [
    "import math\n",
    "import numpy as np\n",
    "import matplotlib.pyplot as plt\n",
    "from PIL import Image\n",
    "from keras.models import Sequential\n",
    "from keras.layers import Dense, Flatten\n",
    "from keras.optimizers import Adam\n",
    "from keras.applications.resnet50 import ResNet50, preprocess_input\n",
    "from keras.preprocessing.image import ImageDataGenerator\n",
    "from tqdm import tqdm_notebook, tnrange\n",
    "%matplotlib inline"
   ]
  },
  {
   "cell_type": "markdown",
   "metadata": {},
   "source": [
    "## Adquirir imagenes\n",
    "\n",
    "Vamos a usar algunas funciones de javascript para obtener imagenes desde el buscador de google."
   ]
  },
  {
   "cell_type": "markdown",
   "metadata": {},
   "source": [
    "### Adquirir links\n",
    "#### 1. Buscamos un tipo de imagen:\n",
    "\n",
    "![hola](imgs_/js1.png)"
   ]
  },
  {
   "cell_type": "markdown",
   "metadata": {},
   "source": [
    "#### 2. Bajamos hasta tener una buena cantidad de imagenes:\n",
    "![hola](imgs_/js2.png)"
   ]
  },
  {
   "cell_type": "markdown",
   "metadata": {},
   "source": [
    "#### 3. Abrimos la consola del navegador (F12) y pegamos el siguiente codigo (si sale un error, volver a pegar el codigo):\n",
    "```\n",
    "var script = document.createElement('script');\n",
    "script.src = \"https://ajax.googleapis.com/ajax/libs/jquery/2.2.0/jquery.min.js\";\n",
    "document.getElementsByTagName('head')[0].appendChild(script);\n",
    "var urls = $('.rg_di .rg_meta').map(function() { return JSON.parse($(this).text()).ou; });\n",
    "var textToSave = urls.toArray().join('\\n');\n",
    "var hiddenElement = document.createElement('a');\n",
    "hiddenElement.href = 'data:attachment/text,' + encodeURI(textToSave);\n",
    "hiddenElement.target = '_blank';\n",
    "hiddenElement.download = 'urls.txt';\n",
    "hiddenElement.click();\n",
    "```\n",
    "\n",
    "![hola](imgs_/js3.png)\n",
    "\n",
    "\n",
    "#### 4. Guardamos el archivo de texto, con el nombre de la clase:\n",
    "\n",
    "![hola](imgs_/js44.png)\n",
    "El archivo contiene los links de todas las imagenes que vimos en el buscador.\n",
    "\n",
    "\n",
    "#### 5. Repetimos lo mismo con las demas clases y colocamos todos los archivos de texto en una carpeta:\n",
    "\n",
    "![hola](imgs_/js5.png)\n",
    "\n"
   ]
  },
  {
   "cell_type": "markdown",
   "metadata": {},
   "source": [
    "## Bajar las imagenes"
   ]
  },
  {
   "cell_type": "code",
   "execution_count": 3,
   "metadata": {},
   "outputs": [
    {
     "name": "stdout",
     "output_type": "stream",
     "text": [
      "2 clases encontradas: cars, trucks.\n",
      "Downloading cars...\n",
      "Urls validos: 72\n",
      "Imagenes a bajar: 72\n",
      "Imagenes bajadas: 69\n",
      "Total imagenes: 65\n",
      "\n",
      "Downloading trucks...\n",
      "Urls validos: 80\n",
      "Imagenes a bajar: 80\n",
      "Imagenes bajadas: 71\n",
      "Total imagenes: 68\n",
      "\n"
     ]
    }
   ],
   "source": [
    "from download import download\n",
    "\n",
    "# Especificamos carpeta donde pusimos los archivos de texto y ejecutamos el metodo dobbbbwnload\n",
    "path = 'data2'\n",
    "download(path)"
   ]
  },
  {
   "cell_type": "markdown",
   "metadata": {},
   "source": []
  }
 ],
 "metadata": {
  "kernelspec": {
   "display_name": "Python 3",
   "language": "python",
   "name": "python3"
  },
  "language_info": {
   "codemirror_mode": {
    "name": "ipython",
    "version": 3
   },
   "file_extension": ".py",
   "mimetype": "text/x-python",
   "name": "python",
   "nbconvert_exporter": "python",
   "pygments_lexer": "ipython3",
   "version": "3.6.0"
  }
 },
 "nbformat": 4,
 "nbformat_minor": 2
}
